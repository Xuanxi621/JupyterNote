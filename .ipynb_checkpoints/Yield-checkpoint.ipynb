{
 "cells": [
  {
   "cell_type": "markdown",
   "id": "ed20bf0a",
   "metadata": {},
   "source": [
    "**迭代器**：是一种可以迭代以检索元素的类型。 Python的下面list、dict、tuples都可以迭代的，所以这些对象就是迭代器。\n",
    "\n",
    "**生成器**：生成器通过每次取出元素执行处理来生成元素。"
   ]
  },
  {
   "cell_type": "markdown",
   "id": "137b1a59",
   "metadata": {},
   "source": [
    "**Yield基本用法**\n",
    "\n",
    "yield 基本上是函数内部使用的语句。 基本语法是: yield <value>\n",
    "我们举一个员工的例子，我们做一个基础编号池，为了简单，这里我给基础编号池3个编号。 这实际上就是迭代器。"
   ]
  },
  {
   "cell_type": "code",
   "execution_count": 27,
   "id": "20230ea4",
   "metadata": {
    "ExecuteTime": {
     "end_time": "2024-11-09T05:32:32.793423Z",
     "start_time": "2024-11-09T05:32:32.782914Z"
    }
   },
   "outputs": [],
   "source": [
    "def base_code_pool():\n",
    "    \"\"\"BASE编号池 1-3 \"\"\"\n",
    "    for i in range(3):\n",
    "        yield 'BASE-%s' % str(i + 1)\n"
   ]
  },
  {
   "cell_type": "code",
   "execution_count": 29,
   "id": "21b3ab3e",
   "metadata": {
    "ExecuteTime": {
     "end_time": "2024-11-09T05:32:36.929183Z",
     "start_time": "2024-11-09T05:32:36.917671Z"
    }
   },
   "outputs": [
    {
     "name": "stdout",
     "output_type": "stream",
     "text": [
      "BASE-1\n",
      "BASE-2\n",
      "BASE-3\n"
     ]
    }
   ],
   "source": [
    "print(next(gen))\n",
    "print(next(gen))\n",
    "print(next(gen))"
   ]
  },
  {
   "cell_type": "code",
   "execution_count": 28,
   "id": "e3ad9ac5",
   "metadata": {
    "ExecuteTime": {
     "end_time": "2024-11-09T05:32:34.939195Z",
     "start_time": "2024-11-09T05:32:34.924117Z"
    }
   },
   "outputs": [],
   "source": [
    "gen = base_code_pool()"
   ]
  },
  {
   "cell_type": "code",
   "execution_count": 30,
   "id": "8c690fc5",
   "metadata": {
    "ExecuteTime": {
     "end_time": "2024-11-09T05:32:38.965959Z",
     "start_time": "2024-11-09T05:32:38.952952Z"
    }
   },
   "outputs": [],
   "source": [
    "for i in gen:\n",
    "    print(i)"
   ]
  },
  {
   "cell_type": "code",
   "execution_count": null,
   "id": "2785d908",
   "metadata": {},
   "outputs": [],
   "source": []
  }
 ],
 "metadata": {
  "kernelspec": {
   "display_name": "Python 3 (ipykernel)",
   "language": "python",
   "name": "python3"
  },
  "language_info": {
   "codemirror_mode": {
    "name": "ipython",
    "version": 3
   },
   "file_extension": ".py",
   "mimetype": "text/x-python",
   "name": "python",
   "nbconvert_exporter": "python",
   "pygments_lexer": "ipython3",
   "version": "3.9.5"
  }
 },
 "nbformat": 4,
 "nbformat_minor": 5
}
