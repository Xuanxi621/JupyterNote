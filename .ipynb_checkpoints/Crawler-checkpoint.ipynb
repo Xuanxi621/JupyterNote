{
 "cells": [
  {
   "cell_type": "code",
   "execution_count": 5,
   "id": "c2ad6644",
   "metadata": {
    "ExecuteTime": {
     "end_time": "2024-11-09T04:59:42.170583Z",
     "start_time": "2024-11-09T04:59:42.164576Z"
    }
   },
   "outputs": [],
   "source": [
    "import requests\n",
    "import json\n",
    "import time\n",
    "import xlsxwriter as xw\n",
    "import os"
   ]
  },
  {
   "cell_type": "code",
   "execution_count": 10,
   "id": "924cc73f",
   "metadata": {
    "ExecuteTime": {
     "end_time": "2024-11-09T05:06:02.600070Z",
     "start_time": "2024-11-09T05:06:02.593040Z"
    }
   },
   "outputs": [],
   "source": [
    "def crawler_start(page):\n",
    "    url = ('https://club.jd.com/comment/productPageComments.action?'\n",
    "           '&productId=100068388533'  # 商品ID\n",
    "           f'&score=0'  # 0表示所有评论，1表示好评，2表示中评，3表示差评，5表示追加评论\n",
    "           '&sortType=5'  # 排序类型（通常使用5）\n",
    "           f'&page={page}'  # 要获取的页面数\n",
    "           '&pageSize=10'  # 每页评论数\n",
    "           '&isShadowSku=0'\n",
    "           '&fold=1')\n",
    "    # 设置headers以模拟浏览器请求\n",
    "    headers = {\n",
    "        \"User-Agent\": \"Mozilla/5.0 (Windows NT 10.0; Win64; x64) AppleWebKit/537.36 (KHTML, like Gecko) Chrome/130.0.0.0 Safari/537.36 Edg/130.0.0.0\"\n",
    "    }\n",
    "    time.sleep(2)\n",
    "    response = requests.get(url=url,headers=headers)\n",
    "    return json.loads(response.text)\n"
   ]
  },
  {
   "cell_type": "code",
   "execution_count": 14,
   "id": "0fdfb27a",
   "metadata": {
    "ExecuteTime": {
     "end_time": "2024-11-09T05:07:05.969797Z",
     "start_time": "2024-11-09T05:07:05.961286Z"
    }
   },
   "outputs": [],
   "source": [
    "def parse_data(data):\n",
    "    items = data['comments']\n",
    "    for i in items:\n",
    "        yield (\n",
    "            i['id'],\n",
    "            i['creationTime'],\n",
    "            i['content']\n",
    "        )"
   ]
  },
  {
   "cell_type": "code",
   "execution_count": 6,
   "id": "d5ecc77d",
   "metadata": {
    "ExecuteTime": {
     "end_time": "2024-11-09T05:00:23.417616Z",
     "start_time": "2024-11-09T05:00:23.407108Z"
    }
   },
   "outputs": [],
   "source": [
    "if not os.path.exists(\"./xlsxdir\"):\n",
    "    os.mkdir(\"./xlsxdir\")"
   ]
  },
  {
   "cell_type": "code",
   "execution_count": 8,
   "id": "bd4f4725",
   "metadata": {
    "ExecuteTime": {
     "end_time": "2024-11-09T05:01:59.746123Z",
     "start_time": "2024-11-09T05:01:59.733602Z"
    }
   },
   "outputs": [
    {
     "data": {
      "text/plain": [
       "0"
      ]
     },
     "execution_count": 8,
     "metadata": {},
     "output_type": "execute_result"
    }
   ],
   "source": [
    "wk = xw.Workbook(\"./xlsxdir/iphone15.xlsx\")\n",
    "wksheet1 = wk.add_worksheet(\"sheet1\")\n",
    "wksheet1.activate()\n",
    "title = [\"Id\",\"日期\",\"评论\"]\n",
    "wksheet1.write_row('A1',title)"
   ]
  },
  {
   "cell_type": "code",
   "execution_count": 15,
   "id": "fce15677",
   "metadata": {
    "ExecuteTime": {
     "end_time": "2024-11-09T05:07:25.557004Z",
     "start_time": "2024-11-09T05:07:10.212069Z"
    }
   },
   "outputs": [],
   "source": [
    "total_page = 4\n",
    "total_parsed_data_list = []\n",
    "for i in range(1,total_page+1):\n",
    "    time.sleep(1.5)\n",
    "    crawler_data = crawler_start(i)\n",
    "    parsed_data = parse_data(crawler_data)\n",
    "    parsed_data_list = list(map(list,parsed_data))\n",
    "    total_parsed_data_list+=parsed_data_list\n",
    "    print('第' + str(i) + '页抓取完毕')"
   ]
  },
  {
   "cell_type": "code",
   "execution_count": 24,
   "id": "913b8d75",
   "metadata": {
    "ExecuteTime": {
     "end_time": "2024-11-09T05:12:33.781345Z",
     "start_time": "2024-11-09T05:12:33.746227Z"
    }
   },
   "outputs": [],
   "source": [
    "for idx,data_list in enumerate(total_parsed_data_list):\n",
    "    insertData = [str(data_list[0]), data_list[1], data_list[2]]\n",
    "    row = 'A' + str(idx+1)\n",
    "    wksheet1.write_row(row,insertData)\n",
    "wk.close()"
   ]
  },
  {
   "cell_type": "code",
   "execution_count": null,
   "id": "1067c14c",
   "metadata": {},
   "outputs": [],
   "source": []
  }
 ],
 "metadata": {
  "kernelspec": {
   "display_name": "Python 3 (ipykernel)",
   "language": "python",
   "name": "python3"
  },
  "language_info": {
   "codemirror_mode": {
    "name": "ipython",
    "version": 3
   },
   "file_extension": ".py",
   "mimetype": "text/x-python",
   "name": "python",
   "nbconvert_exporter": "python",
   "pygments_lexer": "ipython3",
   "version": "3.9.5"
  }
 },
 "nbformat": 4,
 "nbformat_minor": 5
}
